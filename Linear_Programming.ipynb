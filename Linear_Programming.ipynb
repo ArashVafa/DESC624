{
  "nbformat": 4,
  "nbformat_minor": 0,
  "metadata": {
    "colab": {
      "name": "Linear_Programming.ipynb",
      "provenance": [],
      "include_colab_link": true
    },
    "kernelspec": {
      "name": "python3",
      "display_name": "Python 3"
    }
  },
  "cells": [
    {
      "cell_type": "markdown",
      "metadata": {
        "id": "view-in-github",
        "colab_type": "text"
      },
      "source": [
        "<a href=\"https://colab.research.google.com/github/ArashVafa/DESC624/blob/master/Linear_Programming.ipynb\" target=\"_parent\"><img src=\"https://colab.research.google.com/assets/colab-badge.svg\" alt=\"Open In Colab\"/></a>"
      ]
    },
    {
      "cell_type": "markdown",
      "metadata": {
        "id": "T488OvqeG7hK",
        "colab_type": "text"
      },
      "source": [
        "# Linear Programming using PuLP\n",
        "## Linear Programming\n",
        "Linear programming (LP) is a method to find the maximum or the minimum in a linear mathematical model\n",
        "Each LP problem consists of the following components: an objective function, decision variables (or control variables), and constraints.\n",
        "## Example:\n",
        "Blue Ridge Hot Tubs manufactures and sells two models of hot tubs: the Aqua-Spa and the Hydro-Lux. Howie Jones, the owner and manager of the company, needs to decide how many of each type of hot tub to produce during his next production cycle. Howie buys prefabricated fiberglass hot tub shells from a local supplier and adds the pump and tubing to the shells to create his hot tubs. (This supplier has the capacity to deliver as many hot tub shells as Howie needs.) Howie installs the same type of pump into both hot tubs. He will have only 200 pumps available during his next production cycle. From a manufacturing standpoint, the main difference between the two models of hot tubs is the amount of tubing and labor required. Each Aqua-Spa requires 9 hours of labor and 12 feet of tubing. Each Hydro-Lux requires 6 hours of labor and 16 feet of tubing. Howie expects to have 1,566 production labor hours and 2,880 feet of tubing available during the next production cycle. Howie earns a profit of $350 on each Aqua-Spa he sells and \\$300 on each Hydro-Lux he sells. He is confident that he can sell all the hot tubs he produces. The question is, how many Aqua-Spas and Hydro-Luxes should Howie produce if he wants to maximize his profits during the next production cycle?\n",
        "\n",
        "\n"
      ]
    },
    {
      "cell_type": "markdown",
      "metadata": {
        "id": "zo5rg1L9IQNv",
        "colab_type": "text"
      },
      "source": [
        "$x_1$: number of Aqua-Spa produced each week\n",
        "\n",
        "$x_2$: number of Hydro-Lux produced each week\n",
        "$$\\begin{align}\n",
        "max \\hspace{1cm} z & = 350x_1+300x_2 \\\\\n",
        "s.t. \\hspace{0.5cm} x_1+x_2 & \\leq 200 \\hspace{0.5cm} (Pumps)\\\\\n",
        "9x_1+6x_2 & \\leq 1566 \\hspace{0.5cm} (Labor\\ hours)\\\\\n",
        "12x_1+16x_2 & \\leq 1566 \\hspace{0.5cm} (Tubing)\\\\\n",
        "x_1 & \\geq 0 \\hspace{0.5cm} (Sign\\ restriction)\\\\\n",
        "x_2 & \\geq 0 \\hspace{0.5cm} (Sign\\ restriction)\\\\\n",
        "\\end{align}$$\n",
        "PuLP uses LP solvers (e.g., GLPK, COIN CLP/CBC, CPLEX, and GUROBI) to solve linear problems.\n",
        "To install PuLP, in a Command Prompt, type in pip install pulp"
      ]
    },
    {
      "cell_type": "code",
      "metadata": {
        "id": "lwPMdpLo0gA-",
        "colab_type": "code",
        "outputId": "cd0e0435-9fea-49cb-c10d-a240c7454bb5",
        "colab": {
          "base_uri": "https://localhost:8080/",
          "height": 356
        }
      },
      "source": [
        "!pip install pulp\n",
        "from pulp import *"
      ],
      "execution_count": 0,
      "outputs": [
        {
          "output_type": "stream",
          "text": [
            "Collecting pulp\n",
            "\u001b[?25l  Downloading https://files.pythonhosted.org/packages/2d/33/3ae6d9d2ac8c7068937af6372fd8828ac605e62a8b17106fe57110930d38/PuLP-1.6.10.zip (13.6MB)\n",
            "\u001b[K     |████████████████████████████████| 13.6MB 168kB/s \n",
            "\u001b[?25hRequirement already satisfied: pyparsing>=2.0.1 in /usr/local/lib/python3.6/dist-packages (from pulp) (2.4.2)\n",
            "Building wheels for collected packages: pulp\n",
            "  Building wheel for pulp (setup.py) ... \u001b[?25l\u001b[?25hdone\n",
            "  Created wheel for pulp: filename=PuLP-1.6.10-cp36-none-any.whl size=12269903 sha256=a51cc20b0fcb5a2bd9ecf731427c4076350785cf127c2cafef7aac3e04ac4a50\n",
            "  Stored in directory: /root/.cache/pip/wheels/5e/76/77/e28b22219e46e3b4b033f02e8b36b2770ae545bdcf60c2b224\n",
            "Successfully built pulp\n",
            "Installing collected packages: pulp\n",
            "Successfully installed pulp-1.6.10\n"
          ],
          "name": "stdout"
        }
      ]
    },
    {
      "cell_type": "code",
      "metadata": {
        "id": "jUwMUMWAJR5x",
        "colab_type": "code",
        "outputId": "566c314b-6701-4c74-eb4f-55e353033140",
        "colab": {
          "base_uri": "https://localhost:8080/",
          "height": 243
        }
      },
      "source": [
        "prob = LpProblem(\"Blue Ridge Hot Tubs\", LpMaximize)  # Create a LP maximization problem\n",
        "x1 = LpVariable(\"x1\", lowBound=0, cat='Integer') # Create a variable x1 >= 0\n",
        "x2 = LpVariable(\"x2\", lowBound=0, cat='Integer') # Create another variable x2 >= 0\n",
        "prob += 350*x1 + 300*x2  # Objective function\n",
        "prob += 1*x1 + 1*x2 <= 200  # Pumps\n",
        "prob += 9*x1 + 6*x2 <= 1566  # Labor hours\n",
        "prob += 12*x1 + 16*x2 <= 2880  # Tubing\n",
        "prob  # Display the LP problem"
      ],
      "execution_count": 0,
      "outputs": [
        {
          "output_type": "execute_result",
          "data": {
            "text/plain": [
              "Blue Ridge Hot Tubs:\n",
              "MAXIMIZE\n",
              "350*x1 + 300*x2 + 0\n",
              "SUBJECT TO\n",
              "_C1: x1 + x2 <= 200\n",
              "\n",
              "_C2: 9 x1 + 6 x2 <= 1566\n",
              "\n",
              "_C3: 12 x1 + 16 x2 <= 2880\n",
              "\n",
              "VARIABLES\n",
              "0 <= x1 Integer\n",
              "0 <= x2 Integer"
            ]
          },
          "metadata": {
            "tags": []
          },
          "execution_count": 12
        }
      ]
    },
    {
      "cell_type": "code",
      "metadata": {
        "id": "I_CtgP9wKGtx",
        "colab_type": "code",
        "outputId": "be2aa13e-f249-4149-e3dc-f18ee7b9e87a",
        "colab": {
          "base_uri": "https://localhost:8080/",
          "height": 35
        }
      },
      "source": [
        "status = prob.solve()  # Solve with the default solver\n",
        "LpStatus[status]  # Print the solution status"
      ],
      "execution_count": 0,
      "outputs": [
        {
          "output_type": "execute_result",
          "data": {
            "text/plain": [
              "'Optimal'"
            ]
          },
          "metadata": {
            "tags": []
          },
          "execution_count": 13
        }
      ]
    },
    {
      "cell_type": "code",
      "metadata": {
        "id": "LpkAGSrVKJqw",
        "colab_type": "code",
        "outputId": "f21ca5da-e896-4b64-8bfc-5da40a8845c4",
        "colab": {
          "base_uri": "https://localhost:8080/",
          "height": 35
        }
      },
      "source": [
        "value(x1), value(x2), value(prob.objective)  # Show the solution"
      ],
      "execution_count": 0,
      "outputs": [
        {
          "output_type": "execute_result",
          "data": {
            "text/plain": [
              "(122.0, 78.0, 66100.0)"
            ]
          },
          "metadata": {
            "tags": []
          },
          "execution_count": 14
        }
      ]
    },
    {
      "cell_type": "code",
      "metadata": {
        "id": "C90hmawxKOnX",
        "colab_type": "code",
        "outputId": "7d04fd13-2b91-452a-b302-922b44679245",
        "colab": {
          "base_uri": "https://localhost:8080/",
          "height": 35
        }
      },
      "source": [
        "%matplotlib notebook\n",
        "%run Blue Ridge Hot Tubs.py"
      ],
      "execution_count": 0,
      "outputs": [
        {
          "output_type": "stream",
          "text": [
            "ERROR:root:File `'Blue.py'` not found.\n"
          ],
          "name": "stderr"
        }
      ]
    }
  ]
}